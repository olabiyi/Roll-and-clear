{
 "cells": [
  {
   "cell_type": "markdown",
   "id": "f63c02f9-558c-4857-84d8-2dcea8c1645a",
   "metadata": {},
   "source": [
    "# Rolling sum averages and standard deviations "
   ]
  },
  {
   "cell_type": "markdown",
   "id": "7f5a4f65-2316-45bd-ae82-ed3fc4f79e57",
   "metadata": {},
   "source": [
    "Import the necessary libraries and set the variables"
   ]
  },
  {
   "cell_type": "code",
   "execution_count": 28,
   "id": "010a024e",
   "metadata": {},
   "outputs": [],
   "source": [
    "import pandas as pd\n",
    "import numpy as np\n",
    "import os\n",
    "from roller import Roller\n",
    "# This sets the maximum number of rows that can be \n",
    "# printed to the screen\n",
    "pd.set_option(\"display.max_rows\", 500)"
   ]
  },
  {
   "cell_type": "code",
   "execution_count": 32,
   "id": "ac99952b-6275-44e1-99a2-291780969623",
   "metadata": {},
   "outputs": [],
   "source": [
    "# ------- Set all necessary variables ---------------- #\n",
    "# Working from within the directory where your excel file is located\n",
    "infile = \"df13.pickle\" # \"12th_and_13th_trial_unseeded_with_BW_CF_averaging.xlsx\"\n",
    "outfile = \"new.xlsx\"\n",
    "col_list = [\"Time [h]\", \"Concentration Factor [-]\"]\n",
    "column2aggregate = \"Concentration Factor [-]\"\n",
    "aggregate_functions = ['mean','std']\n",
    "rolling_interval  = 1600\n",
    "num_of_rows2view = 30\n",
    "outsheeet =  f\"edited-{args.insheet}\"\n",
    "\n",
    "def main():\n",
    "    df = Roller(aggregate_functions, column2aggregate, rolling_interval,\n",
    "              '12th trial with BW', \"df12\", infile, outfile,\n",
    "              False, header=1, usecols=col_list)\n",
    "\n",
    "    # Let roll baby\n",
    "    df.run(True)"
   ]
  },
  {
   "cell_type": "code",
   "execution_count": 33,
   "id": "ab5c6e41-0bc2-417d-a7ed-9ab712334497",
   "metadata": {},
   "outputs": [],
   "source": [
    "if __name__ == \"__main__\":\n",
    "    main()"
   ]
  }
 ],
 "metadata": {
  "kernelspec": {
   "display_name": "Python 3",
   "language": "python",
   "name": "python3"
  },
  "language_info": {
   "codemirror_mode": {
    "name": "ipython",
    "version": 3
   },
   "file_extension": ".py",
   "mimetype": "text/x-python",
   "name": "python",
   "nbconvert_exporter": "python",
   "pygments_lexer": "ipython3",
   "version": "3.8.8"
  }
 },
 "nbformat": 4,
 "nbformat_minor": 5
}
